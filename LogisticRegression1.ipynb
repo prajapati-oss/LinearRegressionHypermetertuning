{
 "cells": [
  {
   "cell_type": "code",
   "execution_count": 1,
   "id": "d0ce3494-03e5-4d71-90ab-bda4cb344d13",
   "metadata": {},
   "outputs": [],
   "source": [
    "import pandas as pd \n",
    "\n",
    "from matplotlib import pyplot as plt \n",
    "%matplotlib inline\n",
    "import numpy as np"
   ]
  },
  {
   "cell_type": "code",
   "execution_count": 3,
   "id": "69bc980f-25bd-4aec-a78d-017755a2c3f9",
   "metadata": {
    "scrolled": true
   },
   "outputs": [],
   "source": [
    "# data=pd.read_csv(\"D:\\\\DesktopFolder\\\\DataSets\\\\logisticregression1.csv\")\n",
    "# data"
   ]
  },
  {
   "cell_type": "code",
   "execution_count": null,
   "id": "7e764cd1-8edf-43b1-8bf8-df6b710780d5",
   "metadata": {},
   "outputs": [],
   "source": [
    "data.info()"
   ]
  },
  {
   "cell_type": "code",
   "execution_count": null,
   "id": "6b140a76-0695-4f38-9fd8-801792149adc",
   "metadata": {},
   "outputs": [],
   "source": [
    "plt.scatter(data.Age,data.Purchased,marker='*',color='red')\n",
    "plt.show()"
   ]
  },
  {
   "cell_type": "code",
   "execution_count": null,
   "id": "284caf8b-3ae2-47c0-8236-3f7be7cfbd87",
   "metadata": {},
   "outputs": [],
   "source": [
    "from sklearn.model_selection import train_test_split"
   ]
  },
  {
   "cell_type": "code",
   "execution_count": null,
   "id": "477ba425-2e90-4fec-b4fb-3ed2840fd795",
   "metadata": {},
   "outputs": [],
   "source": [
    "data1=np.array(data[['Age']])\n",
    "x=data1\n",
    "y=np.array(data[['Purchased']])\n",
    "\n"
   ]
  },
  {
   "cell_type": "code",
   "execution_count": null,
   "id": "4ec26608-ba8f-4301-99d3-8275c218acbc",
   "metadata": {},
   "outputs": [],
   "source": [
    "x_train,x_test,y_train,y_test=train_test_split(x,y,train_size=0.9,random_state=42)"
   ]
  },
  {
   "cell_type": "code",
   "execution_count": null,
   "id": "8daf5091-2627-42cd-8740-74b7cf21ad98",
   "metadata": {},
   "outputs": [],
   "source": [
    "x_test.shape"
   ]
  },
  {
   "cell_type": "code",
   "execution_count": null,
   "id": "e95b2ee8-a3b7-4801-9a88-3c40e8c958d1",
   "metadata": {},
   "outputs": [],
   "source": [
    "x_train.shape\n",
    "\n"
   ]
  },
  {
   "cell_type": "code",
   "execution_count": null,
   "id": "2c5d825c-90a6-4d11-840a-7918c78f6b97",
   "metadata": {},
   "outputs": [],
   "source": [
    "x_train[1]"
   ]
  },
  {
   "cell_type": "code",
   "execution_count": null,
   "id": "9b132412-a7cc-429e-9154-9dd260e0a169",
   "metadata": {},
   "outputs": [],
   "source": [
    "x_test[0]"
   ]
  },
  {
   "cell_type": "code",
   "execution_count": null,
   "id": "387ad5af-4cdd-4a5b-86fa-5cdcece13bd6",
   "metadata": {},
   "outputs": [],
   "source": [
    "y_train[1]"
   ]
  },
  {
   "cell_type": "code",
   "execution_count": null,
   "id": "e6d402af-86b0-41ab-8f1f-081f0faf8064",
   "metadata": {},
   "outputs": [],
   "source": [
    "y_test[0]"
   ]
  },
  {
   "cell_type": "code",
   "execution_count": null,
   "id": "c0637b57-0d3b-49d9-8418-cc3835a9dd16",
   "metadata": {},
   "outputs": [],
   "source": [
    "len(y_train)"
   ]
  },
  {
   "cell_type": "code",
   "execution_count": null,
   "id": "1ffbdc3f-cb24-4c72-9450-d9bb89afbf5d",
   "metadata": {},
   "outputs": [],
   "source": [
    "from sklearn.linear_model import LogisticRegression"
   ]
  },
  {
   "cell_type": "code",
   "execution_count": null,
   "id": "aa13a91e-cabf-48eb-b9ee-df6d8aa20e55",
   "metadata": {},
   "outputs": [],
   "source": [
    "model=LogisticRegression()"
   ]
  },
  {
   "cell_type": "code",
   "execution_count": null,
   "id": "62c83556-5043-42ea-accc-6fb9b9691a33",
   "metadata": {},
   "outputs": [],
   "source": [
    "model.fit(x_train,y_train)"
   ]
  },
  {
   "cell_type": "code",
   "execution_count": null,
   "id": "e8409474-b299-41ed-a38e-7bc5896121a9",
   "metadata": {},
   "outputs": [],
   "source": [
    "y_ppred=model.predict(x_test)"
   ]
  },
  {
   "cell_type": "code",
   "execution_count": null,
   "id": "b32bdcfd-37b9-4f9a-97df-07d4ff6e9a1c",
   "metadata": {},
   "outputs": [],
   "source": [
    "from sklearn.metrics import accuracy_score,classification_report"
   ]
  },
  {
   "cell_type": "code",
   "execution_count": null,
   "id": "c4e43f3c-0df7-4de0-ab02-830eb229179c",
   "metadata": {},
   "outputs": [],
   "source": [
    "b=accuracy_score(y_test,y_pred)"
   ]
  },
  {
   "cell_type": "code",
   "execution_count": null,
   "id": "c84ccaa0-aad1-408e-ae91-92f5a8442a36",
   "metadata": {},
   "outputs": [],
   "source": [
    "predict_train=model.predict(x_train)"
   ]
  },
  {
   "cell_type": "code",
   "execution_count": null,
   "id": "cdec04ba-bd7d-4837-96d9-fcec6d8f213c",
   "metadata": {},
   "outputs": [],
   "source": [
    "a=accuracy_score(y_train,predict_train)"
   ]
  },
  {
   "cell_type": "code",
   "execution_count": null,
   "id": "89ede931-ead4-4b40-aa05-cd6c62e973c0",
   "metadata": {},
   "outputs": [],
   "source": []
  },
  {
   "cell_type": "code",
   "execution_count": null,
   "id": "68ae706b-0f4f-41af-b0a3-172276973cb3",
   "metadata": {},
   "outputs": [],
   "source": []
  },
  {
   "cell_type": "code",
   "execution_count": null,
   "id": "360f1f66-de15-4b8b-a3be-44d5eebc7023",
   "metadata": {},
   "outputs": [],
   "source": []
  },
  {
   "cell_type": "code",
   "execution_count": null,
   "id": "6bf8a6cf-edd2-41a0-a7ba-297dfdddacb6",
   "metadata": {},
   "outputs": [],
   "source": []
  },
  {
   "cell_type": "code",
   "execution_count": null,
   "id": "6049c596-da84-4ce2-8065-35bb234c3603",
   "metadata": {},
   "outputs": [],
   "source": []
  },
  {
   "cell_type": "code",
   "execution_count": null,
   "id": "3adeabc1-dea9-4881-b8a1-a1ca6805b257",
   "metadata": {},
   "outputs": [],
   "source": []
  },
  {
   "cell_type": "code",
   "execution_count": null,
   "id": "ca2a5a50-3092-48ea-be81-1dc351fdbf0f",
   "metadata": {},
   "outputs": [],
   "source": []
  },
  {
   "cell_type": "code",
   "execution_count": null,
   "id": "ee52fe32-c8fe-4859-a309-e87cc32eb837",
   "metadata": {},
   "outputs": [],
   "source": []
  },
  {
   "cell_type": "code",
   "execution_count": null,
   "id": "21adb81f-6392-4119-bb98-72149a60d7da",
   "metadata": {},
   "outputs": [],
   "source": []
  },
  {
   "cell_type": "code",
   "execution_count": null,
   "id": "5605beff-824f-4137-b171-8733cef19756",
   "metadata": {},
   "outputs": [],
   "source": []
  },
  {
   "cell_type": "code",
   "execution_count": null,
   "id": "53a2404d-91cb-4437-8e9e-bfd4d998c39d",
   "metadata": {},
   "outputs": [],
   "source": []
  },
  {
   "cell_type": "code",
   "execution_count": null,
   "id": "28aca2cd-5f42-48d3-8c46-4c00214d2c2c",
   "metadata": {},
   "outputs": [],
   "source": []
  },
  {
   "cell_type": "code",
   "execution_count": null,
   "id": "358b96a3-e5d7-4fe9-a8ba-5a58c27dbe19",
   "metadata": {},
   "outputs": [],
   "source": []
  },
  {
   "cell_type": "code",
   "execution_count": null,
   "id": "ade80f9c-04c7-4f52-89b7-42c456ad49b4",
   "metadata": {},
   "outputs": [],
   "source": []
  },
  {
   "cell_type": "code",
   "execution_count": null,
   "id": "e68aefc7-180d-4fdd-b43f-2f764dc502d3",
   "metadata": {},
   "outputs": [],
   "source": []
  },
  {
   "cell_type": "code",
   "execution_count": null,
   "id": "2cdaa432-ac67-4816-902e-42fdfc114a26",
   "metadata": {},
   "outputs": [],
   "source": []
  }
 ],
 "metadata": {
  "kernelspec": {
   "display_name": "Python 3 (ipykernel)",
   "language": "python",
   "name": "python3"
  },
  "language_info": {
   "codemirror_mode": {
    "name": "ipython",
    "version": 3
   },
   "file_extension": ".py",
   "mimetype": "text/x-python",
   "name": "python",
   "nbconvert_exporter": "python",
   "pygments_lexer": "ipython3",
   "version": "3.12.8"
  }
 },
 "nbformat": 4,
 "nbformat_minor": 5
}
